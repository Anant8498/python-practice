{
 "cells": [
  {
   "cell_type": "code",
   "execution_count": 1,
   "id": "81f84d7e",
   "metadata": {},
   "outputs": [],
   "source": [
    "#data structures in python with thier function "
   ]
  },
  {
   "cell_type": "code",
   "execution_count": 2,
   "id": "27e9c33c",
   "metadata": {},
   "outputs": [],
   "source": [
    "\n",
    "#string \n",
    "\n",
    "#+built in data structure\n",
    "\n",
    "#list\n",
    "#tuple\n",
    "#set\n",
    "#dictionary\n"
   ]
  },
  {
   "cell_type": "code",
   "execution_count": null,
   "id": "583c2684",
   "metadata": {},
   "outputs": [],
   "source": []
  },
  {
   "cell_type": "code",
   "execution_count": 3,
   "id": "5e0e7ac4",
   "metadata": {},
   "outputs": [],
   "source": [
    "#string\n",
    "\n",
    "#1.are the sequence of unicode charters.\n",
    "#2. single, double, triple.\n",
    "#3. indexable left = 0  right = -1."
   ]
  },
  {
   "cell_type": "code",
   "execution_count": null,
   "id": "85d90597",
   "metadata": {},
   "outputs": [],
   "source": []
  },
  {
   "cell_type": "code",
   "execution_count": 6,
   "id": "ee53b481",
   "metadata": {},
   "outputs": [],
   "source": [
    "my_str= \"Hello, I am learning python\""
   ]
  },
  {
   "cell_type": "code",
   "execution_count": 7,
   "id": "4c140cfa",
   "metadata": {},
   "outputs": [
    {
     "name": "stdout",
     "output_type": "stream",
     "text": [
      "Hello, I am learning python\n"
     ]
    }
   ],
   "source": [
    "print(my_str)   "
   ]
  },
  {
   "cell_type": "code",
   "execution_count": 8,
   "id": "d0116fbb",
   "metadata": {},
   "outputs": [
    {
     "data": {
      "text/plain": [
       "str"
      ]
     },
     "execution_count": 8,
     "metadata": {},
     "output_type": "execute_result"
    }
   ],
   "source": [
    "type(my_str)"
   ]
  },
  {
   "cell_type": "code",
   "execution_count": 13,
   "id": "a5fcc2b4",
   "metadata": {},
   "outputs": [
    {
     "data": {
      "text/plain": [
       "27"
      ]
     },
     "execution_count": 13,
     "metadata": {},
     "output_type": "execute_result"
    }
   ],
   "source": [
    "len(my_str)   #for length of a string # spaces also count"
   ]
  },
  {
   "cell_type": "code",
   "execution_count": 10,
   "id": "b5c5219e",
   "metadata": {},
   "outputs": [
    {
     "data": {
      "text/plain": [
       "'Hello, I am learning python'"
      ]
     },
     "execution_count": 10,
     "metadata": {},
     "output_type": "execute_result"
    }
   ],
   "source": [
    "my_str"
   ]
  },
  {
   "cell_type": "code",
   "execution_count": null,
   "id": "271167ca",
   "metadata": {},
   "outputs": [],
   "source": []
  },
  {
   "cell_type": "code",
   "execution_count": null,
   "id": "ccbf46e0",
   "metadata": {},
   "outputs": [],
   "source": [
    "# indexing"
   ]
  },
  {
   "cell_type": "code",
   "execution_count": 12,
   "id": "487c4711",
   "metadata": {},
   "outputs": [
    {
     "data": {
      "text/plain": [
       "'H'"
      ]
     },
     "execution_count": 12,
     "metadata": {},
     "output_type": "execute_result"
    }
   ],
   "source": [
    "my_str[0]      # start from zero "
   ]
  },
  {
   "cell_type": "code",
   "execution_count": 14,
   "id": "885700d6",
   "metadata": {},
   "outputs": [
    {
     "data": {
      "text/plain": [
       "'n'"
      ]
     },
     "execution_count": 14,
     "metadata": {},
     "output_type": "execute_result"
    }
   ],
   "source": [
    "my_str[-1]    #starting from last #-1"
   ]
  },
  {
   "cell_type": "code",
   "execution_count": 15,
   "id": "2ad9d264",
   "metadata": {},
   "outputs": [
    {
     "data": {
      "text/plain": [
       "' '"
      ]
     },
     "execution_count": 15,
     "metadata": {},
     "output_type": "execute_result"
    }
   ],
   "source": [
    "my_str[20]     #spaces also print"
   ]
  },
  {
   "cell_type": "code",
   "execution_count": 16,
   "id": "dfdebe99",
   "metadata": {},
   "outputs": [
    {
     "data": {
      "text/plain": [
       "'I'"
      ]
     },
     "execution_count": 16,
     "metadata": {},
     "output_type": "execute_result"
    }
   ],
   "source": [
    "my_str[-20]"
   ]
  },
  {
   "cell_type": "code",
   "execution_count": null,
   "id": "8991dec5",
   "metadata": {},
   "outputs": [],
   "source": []
  },
  {
   "cell_type": "code",
   "execution_count": 17,
   "id": "9cb928f9",
   "metadata": {},
   "outputs": [],
   "source": [
    " # slicing   # cut string into slices  # for slicing think like number line "
   ]
  },
  {
   "cell_type": "code",
   "execution_count": 18,
   "id": "ef801eea",
   "metadata": {},
   "outputs": [
    {
     "data": {
      "text/plain": [
       "'Hello, I am learning python'"
      ]
     },
     "execution_count": 18,
     "metadata": {},
     "output_type": "execute_result"
    }
   ],
   "source": [
    "my_str"
   ]
  },
  {
   "cell_type": "code",
   "execution_count": 19,
   "id": "b05ca0c9",
   "metadata": {},
   "outputs": [
    {
     "data": {
      "text/plain": [
       "'Hello'"
      ]
     },
     "execution_count": 19,
     "metadata": {},
     "output_type": "execute_result"
    }
   ],
   "source": [
    "my_str[0:5]    # slice hello from my_str "
   ]
  },
  {
   "cell_type": "code",
   "execution_count": 21,
   "id": "42c7d6f2",
   "metadata": {},
   "outputs": [
    {
     "data": {
      "text/plain": [
       "'I am '"
      ]
     },
     "execution_count": 21,
     "metadata": {},
     "output_type": "execute_result"
    }
   ],
   "source": [
    "my_str[7:12]"
   ]
  },
  {
   "cell_type": "code",
   "execution_count": 24,
   "id": "c67c727f",
   "metadata": {},
   "outputs": [
    {
     "data": {
      "text/plain": [
       "'lo  mla'"
      ]
     },
     "execution_count": 24,
     "metadata": {},
     "output_type": "execute_result"
    }
   ],
   "source": [
    "my_str[2:15:2]  # now it will consider 2 placeholder instead of one "
   ]
  },
  {
   "cell_type": "code",
   "execution_count": 29,
   "id": "afd66dee",
   "metadata": {},
   "outputs": [
    {
     "data": {
      "text/plain": [
       "'Hello, I am learning python'"
      ]
     },
     "execution_count": 29,
     "metadata": {},
     "output_type": "execute_result"
    }
   ],
   "source": [
    "my_str"
   ]
  },
  {
   "cell_type": "code",
   "execution_count": 45,
   "id": "a630c140",
   "metadata": {},
   "outputs": [
    {
     "data": {
      "text/plain": [
       "' pytho'"
      ]
     },
     "execution_count": 45,
     "metadata": {},
     "output_type": "execute_result"
    }
   ],
   "source": [
    "my_str[-7:-1]   # slice from the last # but it will not consider last alphabet  3 it moves from req to req"
   ]
  },
  {
   "cell_type": "code",
   "execution_count": 42,
   "id": "489e4a73",
   "metadata": {},
   "outputs": [
    {
     "data": {
      "text/plain": [
       "' python'"
      ]
     },
     "execution_count": 42,
     "metadata": {},
     "output_type": "execute_result"
    }
   ],
   "source": [
    "my_str[-7:]  # for taking last alphabet also  # it moves from req to last "
   ]
  },
  {
   "cell_type": "code",
   "execution_count": 44,
   "id": "63d69c1d",
   "metadata": {},
   "outputs": [
    {
     "data": {
      "text/plain": [
       "'nohtyp'"
      ]
     },
     "execution_count": 44,
     "metadata": {},
     "output_type": "execute_result"
    }
   ],
   "source": [
    "my_str[-1:-7:-1]   # for taking reverse string  # it start from last to req"
   ]
  },
  {
   "cell_type": "code",
   "execution_count": 49,
   "id": "1dfe175a",
   "metadata": {},
   "outputs": [
    {
     "data": {
      "text/plain": [
       "'Hello, I am learning python'"
      ]
     },
     "execution_count": 49,
     "metadata": {},
     "output_type": "execute_result"
    }
   ],
   "source": [
    "my_str"
   ]
  },
  {
   "cell_type": "code",
   "execution_count": 48,
   "id": "d6b8d841",
   "metadata": {},
   "outputs": [
    {
     "data": {
      "text/plain": [
       "'ing pyth'"
      ]
     },
     "execution_count": 48,
     "metadata": {},
     "output_type": "execute_result"
    }
   ],
   "source": [
    "my_str[-10:25]    #   first count start from last and then  in end it start from front  "
   ]
  },
  {
   "cell_type": "code",
   "execution_count": 50,
   "id": "0ef53cf1",
   "metadata": {},
   "outputs": [
    {
     "data": {
      "text/plain": [
       "'rning py'"
      ]
     },
     "execution_count": 50,
     "metadata": {},
     "output_type": "execute_result"
    }
   ],
   "source": [
    "my_str[15:-4]    # vice versa from upper case "
   ]
  },
  {
   "cell_type": "code",
   "execution_count": 51,
   "id": "fbb8ffe1",
   "metadata": {},
   "outputs": [
    {
     "data": {
      "text/plain": [
       "'Hello, I am learning python'"
      ]
     },
     "execution_count": 51,
     "metadata": {},
     "output_type": "execute_result"
    }
   ],
   "source": [
    "my_str"
   ]
  },
  {
   "cell_type": "code",
   "execution_count": 52,
   "id": "75f42685",
   "metadata": {},
   "outputs": [
    {
     "data": {
      "text/plain": [
       "'ello, I am learning python'"
      ]
     },
     "execution_count": 52,
     "metadata": {},
     "output_type": "execute_result"
    }
   ],
   "source": [
    "my_str[1:]   #start with front end with last "
   ]
  },
  {
   "cell_type": "code",
   "execution_count": 53,
   "id": "6035be84",
   "metadata": {},
   "outputs": [
    {
     "data": {
      "text/plain": [
       "'ing python'"
      ]
     },
     "execution_count": 53,
     "metadata": {},
     "output_type": "execute_result"
    }
   ],
   "source": [
    "my_str[-10:]  #  count start with last move to last "
   ]
  },
  {
   "cell_type": "code",
   "execution_count": 55,
   "id": "0078667f",
   "metadata": {},
   "outputs": [
    {
     "data": {
      "text/plain": [
       "'nohtyp gninrael ma I ,olleH'"
      ]
     },
     "execution_count": 55,
     "metadata": {},
     "output_type": "execute_result"
    }
   ],
   "source": [
    " my_str[::-1]    # count start with last and move from last to front to end og string "
   ]
  },
  {
   "cell_type": "code",
   "execution_count": null,
   "id": "a27e55d1",
   "metadata": {},
   "outputs": [],
   "source": []
  },
  {
   "cell_type": "code",
   "execution_count": 56,
   "id": "fc5d7c4e",
   "metadata": {},
   "outputs": [],
   "source": [
    " # modify and method  of string"
   ]
  },
  {
   "cell_type": "code",
   "execution_count": 59,
   "id": "1f740cd1",
   "metadata": {},
   "outputs": [
    {
     "data": {
      "text/plain": [
       "'Hello, I am learning python'"
      ]
     },
     "execution_count": 59,
     "metadata": {},
     "output_type": "execute_result"
    }
   ],
   "source": [
    "my_str                                                       "
   ]
  },
  {
   "cell_type": "code",
   "execution_count": 57,
   "id": "cd8f3a34",
   "metadata": {},
   "outputs": [
    {
     "data": {
      "text/plain": [
       "'hello, i am learning python'"
      ]
     },
     "execution_count": 57,
     "metadata": {},
     "output_type": "execute_result"
    }
   ],
   "source": [
    "my_str.lower()    # LOWER CASE ALL Alaphabet"
   ]
  },
  {
   "cell_type": "code",
   "execution_count": 58,
   "id": "539d1e39",
   "metadata": {},
   "outputs": [
    {
     "data": {
      "text/plain": [
       "'HELLO, I AM LEARNING PYTHON'"
      ]
     },
     "execution_count": 58,
     "metadata": {},
     "output_type": "execute_result"
    }
   ],
   "source": [
    "my_str.upper()   # upper case all the alphabet"
   ]
  },
  {
   "cell_type": "code",
   "execution_count": 60,
   "id": "90d6c110",
   "metadata": {},
   "outputs": [
    {
     "data": {
      "text/plain": [
       "'Hello, I Am Learning Python'"
      ]
     },
     "execution_count": 60,
     "metadata": {},
     "output_type": "execute_result"
    }
   ],
   "source": [
    "my_str.title()   # upper case all first letter of word "
   ]
  },
  {
   "cell_type": "code",
   "execution_count": 61,
   "id": "42af4c1a",
   "metadata": {},
   "outputs": [
    {
     "data": {
      "text/plain": [
       "'Hello, i am learning python'"
      ]
     },
     "execution_count": 61,
     "metadata": {},
     "output_type": "execute_result"
    }
   ],
   "source": [
    "my_str.capitalize()   # upper case first letter "
   ]
  },
  {
   "cell_type": "code",
   "execution_count": null,
   "id": "73f05ab7",
   "metadata": {},
   "outputs": [],
   "source": []
  },
  {
   "cell_type": "code",
   "execution_count": 62,
   "id": "a2bec6d9",
   "metadata": {},
   "outputs": [
    {
     "data": {
      "text/plain": [
       "'Hello, I am learning python'"
      ]
     },
     "execution_count": 62,
     "metadata": {},
     "output_type": "execute_result"
    }
   ],
   "source": [
    "my_str"
   ]
  },
  {
   "cell_type": "code",
   "execution_count": 66,
   "id": "d00f70a2",
   "metadata": {},
   "outputs": [
    {
     "data": {
      "text/plain": [
       "21"
      ]
     },
     "execution_count": 66,
     "metadata": {},
     "output_type": "execute_result"
    }
   ],
   "source": [
    "my_str.find(\"p\")    # for finding the indexing of alphabet "
   ]
  },
  {
   "cell_type": "code",
   "execution_count": 68,
   "id": "67e0c870",
   "metadata": {},
   "outputs": [
    {
     "data": {
      "text/plain": [
       "-1"
      ]
     },
     "execution_count": 68,
     "metadata": {},
     "output_type": "execute_result"
    }
   ],
   "source": [
    "my_str.find(\"p\",22)   # for checking that letter is how much far  #  case when we guess after the req "
   ]
  },
  {
   "cell_type": "code",
   "execution_count": 70,
   "id": "c548eacb",
   "metadata": {},
   "outputs": [
    {
     "data": {
      "text/plain": [
       "21"
      ]
     },
     "execution_count": 70,
     "metadata": {},
     "output_type": "execute_result"
    }
   ],
   "source": [
    "my_str.find(\"p\",20)   # case when we guess before the req "
   ]
  },
  {
   "cell_type": "code",
   "execution_count": 73,
   "id": "ee7549c7",
   "metadata": {},
   "outputs": [
    {
     "data": {
      "text/plain": [
       "9"
      ]
     },
     "execution_count": 73,
     "metadata": {},
     "output_type": "execute_result"
    }
   ],
   "source": [
    "my_str.find(\"am\")"
   ]
  },
  {
   "cell_type": "code",
   "execution_count": null,
   "id": "c06bd5a7",
   "metadata": {},
   "outputs": [],
   "source": []
  },
  {
   "cell_type": "code",
   "execution_count": 74,
   "id": "0270c1a1",
   "metadata": {},
   "outputs": [
    {
     "data": {
      "text/plain": [
       "'Hello, I am learning python'"
      ]
     },
     "execution_count": 74,
     "metadata": {},
     "output_type": "execute_result"
    }
   ],
   "source": [
    "my_str"
   ]
  },
  {
   "cell_type": "code",
   "execution_count": 77,
   "id": "0fa0c8a0",
   "metadata": {},
   "outputs": [
    {
     "data": {
      "text/plain": [
       "'Hello, I was learning python'"
      ]
     },
     "execution_count": 77,
     "metadata": {},
     "output_type": "execute_result"
    }
   ],
   "source": [
    "my_str.replace(\"am\",\"was\")  # temporary replacement of word but not stored "
   ]
  },
  {
   "cell_type": "code",
   "execution_count": 81,
   "id": "36019bd5",
   "metadata": {},
   "outputs": [],
   "source": [
    "my_str=my_str.replace(\"am\",\"was\")  # for permanent store again that string to that variable"
   ]
  },
  {
   "cell_type": "code",
   "execution_count": 80,
   "id": "17cab99b",
   "metadata": {},
   "outputs": [
    {
     "data": {
      "text/plain": [
       "'Hello, I was learning python'"
      ]
     },
     "execution_count": 80,
     "metadata": {},
     "output_type": "execute_result"
    }
   ],
   "source": [
    "my_str "
   ]
  },
  {
   "cell_type": "code",
   "execution_count": 89,
   "id": "e9e17a02",
   "metadata": {},
   "outputs": [],
   "source": [
    "# for finding from the right use r.find and from left side use .find as it is default"
   ]
  },
  {
   "cell_type": "code",
   "execution_count": 83,
   "id": "1455855f",
   "metadata": {},
   "outputs": [
    {
     "data": {
      "text/plain": [
       "22"
      ]
     },
     "execution_count": 83,
     "metadata": {},
     "output_type": "execute_result"
    }
   ],
   "source": [
    "my_str.rfind(\"p\") "
   ]
  },
  {
   "cell_type": "code",
   "execution_count": 90,
   "id": "f63ee5da",
   "metadata": {},
   "outputs": [
    {
     "data": {
      "text/plain": [
       "22"
      ]
     },
     "execution_count": 90,
     "metadata": {},
     "output_type": "execute_result"
    }
   ],
   "source": [
    "my_str.find(\"p\")"
   ]
  },
  {
   "cell_type": "code",
   "execution_count": null,
   "id": "736f005d",
   "metadata": {},
   "outputs": [],
   "source": []
  },
  {
   "cell_type": "code",
   "execution_count": 91,
   "id": "aae73cfb",
   "metadata": {},
   "outputs": [],
   "source": [
    "# for removing white spaces from front and last "
   ]
  },
  {
   "cell_type": "code",
   "execution_count": 92,
   "id": "daecbe3f",
   "metadata": {},
   "outputs": [],
   "source": [
    "my_str= \"   i am learning python     \""
   ]
  },
  {
   "cell_type": "code",
   "execution_count": 93,
   "id": "61a7f0fc",
   "metadata": {},
   "outputs": [
    {
     "data": {
      "text/plain": [
       "'   i am learning python     '"
      ]
     },
     "execution_count": 93,
     "metadata": {},
     "output_type": "execute_result"
    }
   ],
   "source": [
    "my_str"
   ]
  },
  {
   "cell_type": "code",
   "execution_count": 94,
   "id": "2180b2db",
   "metadata": {},
   "outputs": [
    {
     "data": {
      "text/plain": [
       "'i am learning python     '"
      ]
     },
     "execution_count": 94,
     "metadata": {},
     "output_type": "execute_result"
    }
   ],
   "source": [
    "my_str.lstrip() # removed white spaces from left but not saved # temporary"
   ]
  },
  {
   "cell_type": "code",
   "execution_count": 95,
   "id": "742b621b",
   "metadata": {},
   "outputs": [
    {
     "data": {
      "text/plain": [
       "'   i am learning python'"
      ]
     },
     "execution_count": 95,
     "metadata": {},
     "output_type": "execute_result"
    }
   ],
   "source": [
    "my_str.rstrip()"
   ]
  },
  {
   "cell_type": "code",
   "execution_count": 96,
   "id": "cae600f5",
   "metadata": {},
   "outputs": [
    {
     "data": {
      "text/plain": [
       "'i am learning python'"
      ]
     },
     "execution_count": 96,
     "metadata": {},
     "output_type": "execute_result"
    }
   ],
   "source": [
    "my_str.strip()"
   ]
  },
  {
   "cell_type": "code",
   "execution_count": 98,
   "id": "d5732c91",
   "metadata": {},
   "outputs": [],
   "source": [
    "my_str=my_str.strip()"
   ]
  },
  {
   "cell_type": "code",
   "execution_count": 99,
   "id": "9f3c5a0a",
   "metadata": {},
   "outputs": [
    {
     "data": {
      "text/plain": [
       "'i am learning python'"
      ]
     },
     "execution_count": 99,
     "metadata": {},
     "output_type": "execute_result"
    }
   ],
   "source": [
    "my_str"
   ]
  },
  {
   "cell_type": "code",
   "execution_count": null,
   "id": "ca9fafea",
   "metadata": {},
   "outputs": [],
   "source": [
    " "
   ]
  },
  {
   "cell_type": "code",
   "execution_count": 102,
   "id": "e0be46f2",
   "metadata": {},
   "outputs": [],
   "source": [
    "h = \"This is a python class\""
   ]
  },
  {
   "cell_type": "code",
   "execution_count": 104,
   "id": "b5d454e3",
   "metadata": {},
   "outputs": [
    {
     "data": {
      "text/plain": [
       "['This', 'is', 'a', 'python', 'class']"
      ]
     },
     "execution_count": 104,
     "metadata": {},
     "output_type": "execute_result"
    }
   ],
   "source": [
    "h.split()  # for splitting the whole string"
   ]
  },
  {
   "cell_type": "code",
   "execution_count": null,
   "id": "bd77d0ef",
   "metadata": {},
   "outputs": [],
   "source": []
  },
  {
   "cell_type": "code",
   "execution_count": 106,
   "id": "7ce5929d",
   "metadata": {},
   "outputs": [
    {
     "data": {
      "text/plain": [
       "'This is a python class'"
      ]
     },
     "execution_count": 106,
     "metadata": {},
     "output_type": "execute_result"
    }
   ],
   "source": [
    "\"\".join(h) # for joining the string "
   ]
  },
  {
   "cell_type": "code",
   "execution_count": null,
   "id": "8e2850cd",
   "metadata": {},
   "outputs": [],
   "source": []
  },
  {
   "cell_type": "code",
   "execution_count": 101,
   "id": "c3de05d8",
   "metadata": {},
   "outputs": [],
   "source": [
    "# some escape character in string "
   ]
  },
  {
   "cell_type": "code",
   "execution_count": null,
   "id": "ec5527a9",
   "metadata": {},
   "outputs": [],
   "source": [
    "#\\'\tSingle Quote\t\n",
    "#\\\\\tBackslash\t\n",
    "#\\n\tNew Line\t\n",
    "#\\r\tCarriage Return\t\n",
    "#\\t\tTab\t\n",
    "#\\b\tBackspace"
   ]
  }
 ],
 "metadata": {
  "kernelspec": {
   "display_name": "Python 3 (ipykernel)",
   "language": "python",
   "name": "python3"
  },
  "language_info": {
   "codemirror_mode": {
    "name": "ipython",
    "version": 3
   },
   "file_extension": ".py",
   "mimetype": "text/x-python",
   "name": "python",
   "nbconvert_exporter": "python",
   "pygments_lexer": "ipython3",
   "version": "3.11.5"
  }
 },
 "nbformat": 4,
 "nbformat_minor": 5
}
