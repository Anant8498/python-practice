{
 "cells": [
  {
   "cell_type": "code",
   "execution_count": null,
   "id": "45cf24fa",
   "metadata": {},
   "outputs": [],
   "source": [
    "# ways to print python statements\n"
   ]
  },
  {
   "cell_type": "code",
   "execution_count": null,
   "id": "97a55bf6",
   "metadata": {},
   "outputs": [],
   "source": [
    "print(100)  #print integer  "
   ]
  },
  {
   "cell_type": "code",
   "execution_count": null,
   "id": "624f21c4",
   "metadata": {},
   "outputs": [],
   "source": [
    "print(\"hello python\")   #print normal string "
   ]
  },
  {
   "cell_type": "code",
   "execution_count": null,
   "id": "17219f14",
   "metadata": {},
   "outputs": [],
   "source": [
    "print(\"hello\",\"python\",2324)  #print different items separated by comma  #in this case it is also called tuple\n"
   ]
  },
  {
   "cell_type": "code",
   "execution_count": null,
   "id": "55bd665a",
   "metadata": {},
   "outputs": [],
   "source": []
  },
  {
   "cell_type": "code",
   "execution_count": null,
   "id": "6659edd0",
   "metadata": {},
   "outputs": [],
   "source": [
    "# varaible in pyhton  \n",
    "\n",
    "\n",
    "\n",
    "#variable is a  reserved memory location where data type is stored else identifier is just a name for identification of variable   "
   ]
  },
  {
   "cell_type": "code",
   "execution_count": null,
   "id": "54cad18e",
   "metadata": {},
   "outputs": [],
   "source": [
    "i=2  # integer  as variabe \n",
    "# here i is called identifier \n"
   ]
  },
  {
   "cell_type": "code",
   "execution_count": null,
   "id": "a1b8a049",
   "metadata": {},
   "outputs": [],
   "source": [
    "print(i)"
   ]
  },
  {
   "cell_type": "code",
   "execution_count": null,
   "id": "bf72be29",
   "metadata": {},
   "outputs": [],
   "source": [
    "e=\"hello gud mrning\" # string  as vaiable"
   ]
  },
  {
   "cell_type": "code",
   "execution_count": null,
   "id": "6240afc3",
   "metadata": {},
   "outputs": [],
   "source": [
    "print(e)"
   ]
  },
  {
   "cell_type": "code",
   "execution_count": null,
   "id": "2d6cde33",
   "metadata": {},
   "outputs": [],
   "source": [
    "type(e)"
   ]
  },
  {
   "cell_type": "code",
   "execution_count": null,
   "id": "037e1ca2",
   "metadata": {},
   "outputs": [],
   "source": [
    "id(e) #this is the location "
   ]
  },
  {
   "cell_type": "code",
   "execution_count": null,
   "id": "9b24f832",
   "metadata": {},
   "outputs": [],
   "source": [
    "#identifier cannot start with number and it cannot be inbuilt keyword else it can start with underscore  \n",
    "\n"
   ]
  },
  {
   "cell_type": "code",
   "execution_count": null,
   "id": "3f8324e4",
   "metadata": {},
   "outputs": [],
   "source": [
    "_ab1=(23,\"storm\")"
   ]
  },
  {
   "cell_type": "code",
   "execution_count": null,
   "id": "af9d6335",
   "metadata": {},
   "outputs": [],
   "source": [
    "type(_ab1) # all the identifier are of any type like string, list, tuple , integer etc  "
   ]
  },
  {
   "cell_type": "code",
   "execution_count": null,
   "id": "0de20728",
   "metadata": {},
   "outputs": [],
   "source": [
    "&ab1=45   # but not any special character"
   ]
  },
  {
   "cell_type": "code",
   "execution_count": null,
   "id": "c824a3d8",
   "metadata": {},
   "outputs": [],
   "source": [
    "# python is dynamic hence same identifier can change their variable \n",
    "#ex "
   ]
  },
  {
   "cell_type": "code",
   "execution_count": null,
   "id": "1ebc4b54",
   "metadata": {},
   "outputs": [],
   "source": [
    "print(i)"
   ]
  },
  {
   "cell_type": "code",
   "execution_count": null,
   "id": "0660bf1a",
   "metadata": {},
   "outputs": [],
   "source": [
    "type(i)"
   ]
  },
  {
   "cell_type": "code",
   "execution_count": null,
   "id": "f5489a7e",
   "metadata": {},
   "outputs": [],
   "source": [
    "i=\"hello\""
   ]
  },
  {
   "cell_type": "code",
   "execution_count": null,
   "id": "1faa9161",
   "metadata": {},
   "outputs": [],
   "source": [
    "type(i)  # change with the last  datatype"
   ]
  },
  {
   "cell_type": "code",
   "execution_count": null,
   "id": "6d8aebaa",
   "metadata": {},
   "outputs": [],
   "source": []
  },
  {
   "cell_type": "code",
   "execution_count": null,
   "id": "0a0a0966",
   "metadata": {},
   "outputs": [],
   "source": [
    " #basic datatype"
   ]
  },
  {
   "cell_type": "code",
   "execution_count": null,
   "id": "cd9686b2",
   "metadata": {},
   "outputs": [],
   "source": [
    "#int\n",
    "#float\n",
    "#string\n",
    "#Boolean\n",
    "#None"
   ]
  },
  {
   "cell_type": "code",
   "execution_count": null,
   "id": "43ea2315",
   "metadata": {},
   "outputs": [],
   "source": [
    "my_num = 55\n",
    "\n",
    "print(my_num)\n",
    "print( type(my_num) )"
   ]
  },
  {
   "cell_type": "code",
   "execution_count": null,
   "id": "64f50625",
   "metadata": {},
   "outputs": [],
   "source": [
    "my_f = 98.7\n",
    "\n",
    "print(my_f)\n",
    "print( type(my_f) )"
   ]
  },
  {
   "cell_type": "code",
   "execution_count": null,
   "id": "2c6244e0",
   "metadata": {},
   "outputs": [],
   "source": [
    "my_c = 4 + 3j\n",
    "\n",
    "print(my_c)\n",
    "print( type(my_c) )"
   ]
  },
  {
   "cell_type": "code",
   "execution_count": null,
   "id": "d648fecc",
   "metadata": {},
   "outputs": [],
   "source": [
    "my_str = \"Python is fun.\"\n",
    "\n",
    "print(my_str)\n",
    "print( type(my_str) )"
   ]
  },
  {
   "cell_type": "code",
   "execution_count": null,
   "id": "cc25243a",
   "metadata": {},
   "outputs": [],
   "source": [
    "my_bool = False   # or False\n",
    "\n",
    "print(my_bool)\n",
    "print( type(my_bool) )"
   ]
  },
  {
   "cell_type": "code",
   "execution_count": null,
   "id": "2f3011b1",
   "metadata": {},
   "outputs": [],
   "source": [
    "my_none = None\n",
    "\n",
    "print(my_none)\n",
    "print( type(my_none) )"
   ]
  },
  {
   "cell_type": "code",
   "execution_count": null,
   "id": "0e2df5dc",
   "metadata": {},
   "outputs": [],
   "source": []
  },
  {
   "cell_type": "code",
   "execution_count": null,
   "id": "753f1090",
   "metadata": {},
   "outputs": [],
   "source": [
    "# input in python"
   ]
  },
  {
   "cell_type": "code",
   "execution_count": null,
   "id": "110de968",
   "metadata": {},
   "outputs": [],
   "source": [
    "# input() always take input as string"
   ]
  },
  {
   "cell_type": "code",
   "execution_count": null,
   "id": "83d3c5c5",
   "metadata": {},
   "outputs": [],
   "source": [
    "name= input(\"enter your name:\")  # default input as string "
   ]
  },
  {
   "cell_type": "code",
   "execution_count": null,
   "id": "f4d915b0",
   "metadata": {},
   "outputs": [],
   "source": [
    "num=int(input(\"enter your age:\")) # for taking integer as input"
   ]
  },
  {
   "cell_type": "code",
   "execution_count": null,
   "id": "83795da7",
   "metadata": {},
   "outputs": [],
   "source": [
    "# type casting ; it is a way in which data type can be change "
   ]
  },
  {
   "cell_type": "code",
   "execution_count": null,
   "id": "11ceb60a",
   "metadata": {},
   "outputs": [],
   "source": [
    "num=\"8\""
   ]
  },
  {
   "cell_type": "code",
   "execution_count": null,
   "id": "b9583bee",
   "metadata": {},
   "outputs": [],
   "source": [
    "print(num)"
   ]
  },
  {
   "cell_type": "code",
   "execution_count": null,
   "id": "2c52d265",
   "metadata": {},
   "outputs": [],
   "source": [
    "type(num)"
   ]
  },
  {
   "cell_type": "code",
   "execution_count": null,
   "id": "e5162248",
   "metadata": {},
   "outputs": [],
   "source": [
    "# if we  want to change the type then  "
   ]
  },
  {
   "cell_type": "code",
   "execution_count": null,
   "id": "8276fcec",
   "metadata": {},
   "outputs": [],
   "source": [
    " num= int(num)"
   ]
  },
  {
   "cell_type": "code",
   "execution_count": null,
   "id": "8cfad658",
   "metadata": {},
   "outputs": [],
   "source": [
    "type(num) # changed from string to int "
   ]
  },
  {
   "cell_type": "code",
   "execution_count": null,
   "id": "e56b8674",
   "metadata": {},
   "outputs": [],
   "source": [
    "\n"
   ]
  },
  {
   "cell_type": "code",
   "execution_count": null,
   "id": "a45d790b",
   "metadata": {},
   "outputs": [],
   "source": [
    "#python statements "
   ]
  },
  {
   "cell_type": "code",
   "execution_count": null,
   "id": "e369197a",
   "metadata": {},
   "outputs": [],
   "source": [
    "# single line statement  : instruction that can ececute in single line\n",
    "num = 5"
   ]
  },
  {
   "cell_type": "code",
   "execution_count": null,
   "id": "7b935b63",
   "metadata": {},
   "outputs": [],
   "source": [
    "# multiline statement : required multiline to execute  (\\  is used )\n",
    "a = 1 + 2 + 3 + \\\n",
    "    4 + 5 + 6 + \\\n",
    "    7 + 8"
   ]
  },
  {
   "cell_type": "code",
   "execution_count": null,
   "id": "3c42ae74",
   "metadata": {},
   "outputs": [],
   "source": [
    "print(a)"
   ]
  },
  {
   "cell_type": "code",
   "execution_count": null,
   "id": "ef84c238",
   "metadata": {},
   "outputs": [],
   "source": []
  },
  {
   "cell_type": "code",
   "execution_count": null,
   "id": "b0409c48",
   "metadata": {},
   "outputs": [],
   "source": [
    "# output in python "
   ]
  },
  {
   "cell_type": "code",
   "execution_count": null,
   "id": "da099b91",
   "metadata": {},
   "outputs": [],
   "source": [
    "# by dot format method "
   ]
  },
  {
   "cell_type": "code",
   "execution_count": null,
   "id": "d94eb37b",
   "metadata": {},
   "outputs": [],
   "source": [
    "a =10\n",
    "b=20\n",
    "\n",
    "print(\"the value of a is {},b is {}\".format(a,b))  # basic output formatting"
   ]
  },
  {
   "cell_type": "code",
   "execution_count": null,
   "id": "049741fb",
   "metadata": {},
   "outputs": [],
   "source": [
    "a=10\n",
    "b=20\n",
    "\n",
    "print(\"the value of a is {1}, b is {0}\".format(a,b))  # output based on indexing # here a is at 0 and b is at 1 "
   ]
  },
  {
   "cell_type": "code",
   "execution_count": null,
   "id": "394886ba",
   "metadata": {},
   "outputs": [],
   "source": [
    "print(\"the value of c is {f}, d is {g}\".format(g=30, f=20))  # variable defines inside the statementb"
   ]
  },
  {
   "cell_type": "code",
   "execution_count": 1,
   "id": "8b10cc09",
   "metadata": {},
   "outputs": [],
   "source": [
    "c=86"
   ]
  },
  {
   "cell_type": "code",
   "execution_count": 7,
   "id": "0fad8123",
   "metadata": {},
   "outputs": [
    {
     "name": "stdout",
     "output_type": "stream",
     "text": [
      "the value of c is \"86\"\n"
     ]
    }
   ],
   "source": [
    "print(f'the value of c is \"{c}\"')  # F STRING ,, REQUIRED TO PUT THE VALUE IN CURLY BRACES "
   ]
  },
  {
   "cell_type": "code",
   "execution_count": 6,
   "id": "2154c34f",
   "metadata": {},
   "outputs": [
    {
     "name": "stdout",
     "output_type": "stream",
     "text": [
      "the value of c is 86\n"
     ]
    }
   ],
   "source": [
    "print(f\"the value of c is {c}\") "
   ]
  },
  {
   "cell_type": "code",
   "execution_count": null,
   "id": "a00bb270",
   "metadata": {},
   "outputs": [],
   "source": []
  },
  {
   "cell_type": "code",
   "execution_count": null,
   "id": "4eb9c1c4",
   "metadata": {},
   "outputs": [],
   "source": []
  },
  {
   "cell_type": "code",
   "execution_count": null,
   "id": "9cf5b0ef",
   "metadata": {},
   "outputs": [],
   "source": []
  },
  {
   "cell_type": "code",
   "execution_count": null,
   "id": "af0bc3b8",
   "metadata": {},
   "outputs": [],
   "source": [
    "#Operators and Expressions\n",
    "\n",
    "#Arithmetic Operators + , - , * , / , // , **, %\n",
    "\n",
    "#Comparison Operator > , < , >= , <= , == , !=\n",
    "\n",
    "#Logical Operator and , or , not \n",
    "\n",
    "#Bitwise Operator & , | , ^  \n",
    "\n",
    "#Assignment Operator = , +=, -=, *=, /=  \n",
    "\n",
    "#Special Operators in, is\n"
   ]
  },
  {
   "cell_type": "code",
   "execution_count": null,
   "id": "189b7fa2",
   "metadata": {},
   "outputs": [],
   "source": []
  },
  {
   "cell_type": "code",
   "execution_count": null,
   "id": "f742c68e",
   "metadata": {},
   "outputs": [],
   "source": []
  },
  {
   "cell_type": "code",
   "execution_count": null,
   "id": "04e426bd",
   "metadata": {},
   "outputs": [],
   "source": []
  },
  {
   "cell_type": "code",
   "execution_count": null,
   "id": "08c0c95b",
   "metadata": {},
   "outputs": [],
   "source": []
  },
  {
   "cell_type": "code",
   "execution_count": null,
   "id": "db1a5bc6",
   "metadata": {},
   "outputs": [],
   "source": []
  },
  {
   "cell_type": "code",
   "execution_count": null,
   "id": "65a3885a",
   "metadata": {},
   "outputs": [],
   "source": [
    "#Arithmetic Operators + , - , * , / , // , **, %\n"
   ]
  },
  {
   "cell_type": "code",
   "execution_count": null,
   "id": "ad3a262e",
   "metadata": {},
   "outputs": [],
   "source": [
    "no1 = 12\n",
    "no2 = 3"
   ]
  },
  {
   "cell_type": "code",
   "execution_count": null,
   "id": "794b8199",
   "metadata": {},
   "outputs": [],
   "source": [
    "add = no1 + no2\n",
    "sub = no1 - no2\n",
    "mul = no1 * no2\n",
    "div = no1 / no2\n",
    "f_div = no1 // no2\n",
    "exp = no1 ** no2\n",
    "mod = no1 % no2 # ---> modulus operator. it gives remainder\n"
   ]
  },
  {
   "cell_type": "code",
   "execution_count": null,
   "id": "d10e42c7",
   "metadata": {},
   "outputs": [],
   "source": [
    "print(\"a+b={}\".format(add))\n",
    "print(\"a-b={}\".format(sub))\n",
    "print(\"a*b={}\".format(mul))\n",
    "print(\"a/b={}\".format(div))\n",
    "print(\"a//b={}\".format(f_div))\n",
    "print(\"a**b={}\".format(exp))\n",
    "print(\"a%b={}\".format(mod))"
   ]
  },
  {
   "cell_type": "code",
   "execution_count": null,
   "id": "004614c3",
   "metadata": {},
   "outputs": [],
   "source": []
  },
  {
   "cell_type": "code",
   "execution_count": null,
   "id": "ce7f2b72",
   "metadata": {},
   "outputs": [],
   "source": [
    "#Comparison Operator > , < , >= , <= , == , !="
   ]
  },
  {
   "cell_type": "code",
   "execution_count": null,
   "id": "841e92c7",
   "metadata": {},
   "outputs": [],
   "source": [
    "print(no1,no2)"
   ]
  },
  {
   "cell_type": "code",
   "execution_count": null,
   "id": "6565bbcd",
   "metadata": {},
   "outputs": [],
   "source": [
    "print(no1 > no2)\n",
    "print(no1 < no2)\n",
    "print(no1 >= no2)\n",
    "print(no1 <= no2)\n",
    "print(no1 == no2)  # equality\n",
    "print(no1 != no2)  # not equal to"
   ]
  },
  {
   "cell_type": "code",
   "execution_count": null,
   "id": "fede9fe5",
   "metadata": {},
   "outputs": [],
   "source": []
  },
  {
   "cell_type": "code",
   "execution_count": null,
   "id": "b504416f",
   "metadata": {},
   "outputs": [],
   "source": [
    "#Logical Operator and , or , not "
   ]
  },
  {
   "cell_type": "code",
   "execution_count": null,
   "id": "c3f9bce2",
   "metadata": {},
   "outputs": [],
   "source": [
    "#and : return True when both the conditions are True, otherwise false\n",
    "\n",
    "#or : return True even when one of the condition is True. False if both the conditions are False\n",
    "\n",
    "#not : return Negation"
   ]
  },
  {
   "cell_type": "code",
   "execution_count": null,
   "id": "2eae574f",
   "metadata": {},
   "outputs": [],
   "source": [
    "(10>5) and (20!=3)"
   ]
  },
  {
   "cell_type": "code",
   "execution_count": null,
   "id": "429c58b2",
   "metadata": {},
   "outputs": [],
   "source": [
    "(10<5) or (10<6)"
   ]
  },
  {
   "cell_type": "code",
   "execution_count": null,
   "id": "09aa8f94",
   "metadata": {},
   "outputs": [],
   "source": [
    "not True"
   ]
  },
  {
   "cell_type": "code",
   "execution_count": null,
   "id": "6c3dae73",
   "metadata": {},
   "outputs": [],
   "source": [
    "not( (10!=5) and (5>7) )"
   ]
  },
  {
   "cell_type": "code",
   "execution_count": null,
   "id": "f81e828c",
   "metadata": {},
   "outputs": [],
   "source": []
  },
  {
   "cell_type": "code",
   "execution_count": null,
   "id": "d8ec237c",
   "metadata": {},
   "outputs": [],
   "source": [
    "#Bitwise Operator & , | , ^"
   ]
  },
  {
   "cell_type": "code",
   "execution_count": null,
   "id": "4b7e90a4",
   "metadata": {},
   "outputs": [],
   "source": [
    "bin(10)"
   ]
  },
  {
   "cell_type": "code",
   "execution_count": null,
   "id": "2be7e060",
   "metadata": {},
   "outputs": [],
   "source": [
    "bin(4)"
   ]
  },
  {
   "cell_type": "code",
   "execution_count": null,
   "id": "102a8e1c",
   "metadata": {},
   "outputs": [],
   "source": [
    "# bitwise & of 10 with 4                                                               #?\n",
    "10 & 4 "
   ]
  },
  {
   "cell_type": "code",
   "execution_count": null,
   "id": "8c2640b1",
   "metadata": {},
   "outputs": [],
   "source": [
    "#bitwise | of 10 with 4\n",
    "10 | 4                                                                                   #?"
   ]
  },
  {
   "cell_type": "code",
   "execution_count": null,
   "id": "3d31c447",
   "metadata": {},
   "outputs": [],
   "source": [
    "# bitwise xor 4 with 4\n",
    "4 ^ 4                                                                                       #?"
   ]
  },
  {
   "cell_type": "code",
   "execution_count": null,
   "id": "34fd9dff",
   "metadata": {},
   "outputs": [],
   "source": []
  },
  {
   "cell_type": "code",
   "execution_count": null,
   "id": "aa18d21a",
   "metadata": {},
   "outputs": [],
   "source": [
    "#Assignment Operator = , +=, -=, *=, /=  "
   ]
  },
  {
   "cell_type": "code",
   "execution_count": null,
   "id": "52f3de40",
   "metadata": {},
   "outputs": [],
   "source": [
    "# assigning value 5 to variable 'a'\n",
    "a = 5\n"
   ]
  },
  {
   "cell_type": "code",
   "execution_count": null,
   "id": "de10138c",
   "metadata": {},
   "outputs": [],
   "source": [
    "a = a + 1"
   ]
  },
  {
   "cell_type": "code",
   "execution_count": null,
   "id": "0e151892",
   "metadata": {},
   "outputs": [],
   "source": [
    "print(a)"
   ]
  },
  {
   "cell_type": "code",
   "execution_count": null,
   "id": "00a9dece",
   "metadata": {},
   "outputs": [],
   "source": [
    "a+=2"
   ]
  },
  {
   "cell_type": "code",
   "execution_count": null,
   "id": "82efef01",
   "metadata": {},
   "outputs": [],
   "source": [
    "print(a)"
   ]
  },
  {
   "cell_type": "code",
   "execution_count": null,
   "id": "041a0350",
   "metadata": {},
   "outputs": [],
   "source": [
    "a *= 2"
   ]
  },
  {
   "cell_type": "code",
   "execution_count": null,
   "id": "e893673f",
   "metadata": {},
   "outputs": [],
   "source": [
    "print (a)"
   ]
  },
  {
   "cell_type": "code",
   "execution_count": null,
   "id": "386c08ab",
   "metadata": {},
   "outputs": [],
   "source": [
    "a, b, c = \"ML\" , 34 , 0.3  # multiple assignment"
   ]
  },
  {
   "cell_type": "code",
   "execution_count": null,
   "id": "426232ca",
   "metadata": {},
   "outputs": [],
   "source": [
    "print(a, b, c)"
   ]
  },
  {
   "cell_type": "code",
   "execution_count": null,
   "id": "205997b1",
   "metadata": {},
   "outputs": [],
   "source": [
    "a = b = c = 70"
   ]
  },
  {
   "cell_type": "code",
   "execution_count": null,
   "id": "5976e795",
   "metadata": {},
   "outputs": [],
   "source": [
    "print(a, b, c)"
   ]
  },
  {
   "cell_type": "code",
   "execution_count": null,
   "id": "4b18298e",
   "metadata": {},
   "outputs": [],
   "source": []
  },
  {
   "cell_type": "code",
   "execution_count": null,
   "id": "bf614794",
   "metadata": {},
   "outputs": [],
   "source": [
    "#Special Operators in, is"
   ]
  },
  {
   "cell_type": "code",
   "execution_count": null,
   "id": "1cdf1e16",
   "metadata": {},
   "outputs": [],
   "source": [
    "#Membership Operator\n",
    "#- in\n",
    "\n",
    "\n",
    "#Identity operator\n",
    "#- is\n",
    "#- is not"
   ]
  },
  {
   "cell_type": "code",
   "execution_count": null,
   "id": "98e334d0",
   "metadata": {},
   "outputs": [],
   "source": [
    "my_str = \"Good Morning\""
   ]
  },
  {
   "cell_type": "code",
   "execution_count": null,
   "id": "879191c9",
   "metadata": {},
   "outputs": [],
   "source": [
    "\"Good\" in my_str"
   ]
  },
  {
   "cell_type": "code",
   "execution_count": null,
   "id": "c4c33a69",
   "metadata": {},
   "outputs": [],
   "source": [
    "'o' in my_str"
   ]
  },
  {
   "cell_type": "code",
   "execution_count": null,
   "id": "806a9e85",
   "metadata": {},
   "outputs": [],
   "source": [
    "n1 = 1000\n",
    "n2 = 1000"
   ]
  },
  {
   "cell_type": "code",
   "execution_count": null,
   "id": "4d3d33b9",
   "metadata": {},
   "outputs": [],
   "source": [
    "id(n1)"
   ]
  },
  {
   "cell_type": "code",
   "execution_count": null,
   "id": "c01965ff",
   "metadata": {},
   "outputs": [],
   "source": [
    "id(n2)"
   ]
  },
  {
   "cell_type": "code",
   "execution_count": null,
   "id": "616e37a6",
   "metadata": {},
   "outputs": [],
   "source": [
    "n1 is not n2"
   ]
  },
  {
   "cell_type": "code",
   "execution_count": null,
   "id": "171bbcf9",
   "metadata": {},
   "outputs": [],
   "source": [
    "n1 == n2"
   ]
  },
  {
   "cell_type": "code",
   "execution_count": null,
   "id": "57d3f02c",
   "metadata": {},
   "outputs": [],
   "source": []
  }
 ],
 "metadata": {
  "kernelspec": {
   "display_name": "Python 3 (ipykernel)",
   "language": "python",
   "name": "python3"
  },
  "language_info": {
   "codemirror_mode": {
    "name": "ipython",
    "version": 3
   },
   "file_extension": ".py",
   "mimetype": "text/x-python",
   "name": "python",
   "nbconvert_exporter": "python",
   "pygments_lexer": "ipython3",
   "version": "3.11.5"
  }
 },
 "nbformat": 4,
 "nbformat_minor": 5
}
