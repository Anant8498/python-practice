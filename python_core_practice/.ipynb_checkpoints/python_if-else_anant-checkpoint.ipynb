{
 "cells": [
  {
   "cell_type": "code",
   "execution_count": null,
   "id": "de9499e2",
   "metadata": {},
   "outputs": [],
   "source": [
    "# control flow:\n",
    "# Conditional statements = 1. if, elif, else\n",
    "# Loops == For LOOP, While LOOPs"
   ]
  },
  {
   "cell_type": "code",
   "execution_count": null,
   "id": "42669eb0",
   "metadata": {},
   "outputs": [],
   "source": []
  },
  {
   "cell_type": "code",
   "execution_count": null,
   "id": "ae974ae1",
   "metadata": {},
   "outputs": [],
   "source": [
    "# Method 1 = Conditional statements\n",
    "- if elif else\n",
    "\n",
    "\n",
    "syntax:\n",
    "    \n",
    "    \n",
    "    \n",
    "if (test expression):\n",
    "    logic/statements\n",
    "    logic/statements\n",
    "    logic/statements\n",
    "    logic/statements\n",
    "elif (test expression):\n",
    "    logic/statements\n",
    "    logic/statements\n",
    "    logic/statements\n",
    "    logic/statements\n",
    "else:\n",
    "    logic\n"
   ]
  },
  {
   "cell_type": "code",
   "execution_count": null,
   "id": "bc0efbd2",
   "metadata": {},
   "outputs": [],
   "source": []
  },
  {
   "cell_type": "code",
   "execution_count": 1,
   "id": "8b5b4104",
   "metadata": {},
   "outputs": [
    {
     "name": "stdout",
     "output_type": "stream",
     "text": [
      "enter your age:34\n"
     ]
    }
   ],
   "source": [
    "age = int(input('enter your age:'))"
   ]
  },
  {
   "cell_type": "code",
   "execution_count": 2,
   "id": "b7e8e05c",
   "metadata": {},
   "outputs": [
    {
     "name": "stdout",
     "output_type": "stream",
     "text": [
      "you are eligible for voting..\n",
      "voting is your right\n"
     ]
    }
   ],
   "source": [
    "if age>=18:\n",
    "    print('you are eligible for voting..')   \n",
    "    print(\"voting is your right\")\n",
    "else:\n",
    "    #Indentation\n",
    "    print(\"you are in college\")\n",
    "    print('you are kid')\n",
    "    "
   ]
  },
  {
   "cell_type": "code",
   "execution_count": null,
   "id": "0aecd0f7",
   "metadata": {},
   "outputs": [],
   "source": []
  },
  {
   "cell_type": "code",
   "execution_count": 6,
   "id": "6aff2483",
   "metadata": {},
   "outputs": [
    {
     "name": "stdout",
     "output_type": "stream",
     "text": [
      "0\n"
     ]
    }
   ],
   "source": [
    "num = int(input())"
   ]
  },
  {
   "cell_type": "code",
   "execution_count": 7,
   "id": "e83e2f63",
   "metadata": {},
   "outputs": [
    {
     "name": "stdout",
     "output_type": "stream",
     "text": [
      "its zero\n"
     ]
    }
   ],
   "source": [
    "if num>0:\n",
    "    print(\"its a positive number\")\n",
    "elif num == 0:\n",
    "    print(\"its zero\")\n",
    "else:\n",
    "    print(\"its negative\")"
   ]
  },
  {
   "cell_type": "code",
   "execution_count": null,
   "id": "147e565f",
   "metadata": {},
   "outputs": [],
   "source": []
  },
  {
   "cell_type": "code",
   "execution_count": null,
   "id": "e0b7fa6e",
   "metadata": {},
   "outputs": [],
   "source": [
    "-- nested if elif else"
   ]
  },
  {
   "cell_type": "code",
   "execution_count": null,
   "id": "306c410d",
   "metadata": {},
   "outputs": [],
   "source": []
  },
  {
   "cell_type": "code",
   "execution_count": null,
   "id": "68e35f19",
   "metadata": {},
   "outputs": [],
   "source": []
  },
  {
   "cell_type": "code",
   "execution_count": null,
   "id": "1e608cc6",
   "metadata": {},
   "outputs": [],
   "source": [
    "num = int(input())"
   ]
  },
  {
   "cell_type": "code",
   "execution_count": 10,
   "id": "ab2b25e0",
   "metadata": {},
   "outputs": [
    {
     "name": "stdout",
     "output_type": "stream",
     "text": [
      "positive\n"
     ]
    }
   ],
   "source": [
    "if num>=0:    # nesting\n",
    "    if num==0:\n",
    "        print(\"its zero\")\n",
    "    else:\n",
    "        print(\"positive\")\n",
    "else:\n",
    "    print(\"its negative\")"
   ]
  },
  {
   "cell_type": "code",
   "execution_count": 9,
   "id": "1bba6dd1",
   "metadata": {},
   "outputs": [
    {
     "name": "stdout",
     "output_type": "stream",
     "text": [
      "23\n"
     ]
    }
   ],
   "source": []
  },
  {
   "cell_type": "code",
   "execution_count": null,
   "id": "f01e0af9",
   "metadata": {},
   "outputs": [],
   "source": [
    "num = int(input())"
   ]
  },
  {
   "cell_type": "code",
   "execution_count": null,
   "id": "f95153cf",
   "metadata": {},
   "outputs": [],
   "source": [
    "if num>=0:     # laddar\n",
    "    if num==0:\n",
    "        print(\"its zero\")\n",
    "    if num==12:\n",
    "        print('its twelve')\n",
    "    if num==20:\n",
    "        print(\"twenty\")\n",
    "else:\n",
    "    print(\"its negative\")"
   ]
  },
  {
   "cell_type": "code",
   "execution_count": null,
   "id": "b55a2248",
   "metadata": {},
   "outputs": [],
   "source": []
  },
  {
   "cell_type": "code",
   "execution_count": null,
   "id": "8900aa4d",
   "metadata": {},
   "outputs": [],
   "source": []
  },
  {
   "cell_type": "code",
   "execution_count": null,
   "id": "12fa07ef",
   "metadata": {},
   "outputs": [],
   "source": [
    "spend = int(input())"
   ]
  },
  {
   "cell_type": "code",
   "execution_count": null,
   "id": "21731acd",
   "metadata": {},
   "outputs": [],
   "source": [
    "if spend>10000:    #elif ladder\n",
    "    print(\"you are eligible for a discount of 10%\")\n",
    "elif spend>6000 and spend<=10000:\n",
    "    print(\"discount 5%\")\n",
    "elif spend>4000 and spend<=6000:\n",
    "    print('he is a vip customer')\n",
    "elif spend>1000 and spend<=4000:\n",
    "    print(\"you are eligible for vouchers\")\n",
    "elif spend>500 and spend<=1000:\n",
    "    print(\"you are eligible for movie tickets\")\n",
    "elif spend>100 and spend<=500:\n",
    "    print('you are special customer')\n",
    "else:\n",
    "    print('not eligible for discount')"
   ]
  },
  {
   "cell_type": "code",
   "execution_count": null,
   "id": "f40841ac",
   "metadata": {},
   "outputs": [],
   "source": []
  },
  {
   "cell_type": "code",
   "execution_count": null,
   "id": "a3151d53",
   "metadata": {},
   "outputs": [],
   "source": [
    "num = int(input())"
   ]
  },
  {
   "cell_type": "code",
   "execution_count": null,
   "id": "b8a7682a",
   "metadata": {},
   "outputs": [],
   "source": [
    "if num==0:\n",
    "        print(\"its zero\")\n",
    "if num==12:\n",
    "        print('its twelve')\n",
    "if num==20:\n",
    "        print(\"twenty\")"
   ]
  },
  {
   "cell_type": "code",
   "execution_count": null,
   "id": "208db6ac",
   "metadata": {},
   "outputs": [],
   "source": []
  },
  {
   "cell_type": "code",
   "execution_count": null,
   "id": "99394d63",
   "metadata": {},
   "outputs": [],
   "source": []
  },
  {
   "cell_type": "code",
   "execution_count": 11,
   "id": "096406a5",
   "metadata": {},
   "outputs": [],
   "source": [
    "k = \"Python is fun\""
   ]
  },
  {
   "cell_type": "code",
   "execution_count": 12,
   "id": "08d27b5a",
   "metadata": {},
   "outputs": [
    {
     "name": "stdout",
     "output_type": "stream",
     "text": [
      "it is not present\n"
     ]
    }
   ],
   "source": [
    "if 'p' in k:\n",
    "    print('its available')\n",
    "else:\n",
    "    print(\"it is not present\")"
   ]
  },
  {
   "cell_type": "code",
   "execution_count": null,
   "id": "ed5a047c",
   "metadata": {},
   "outputs": [],
   "source": []
  },
  {
   "cell_type": "code",
   "execution_count": null,
   "id": "91f1a56d",
   "metadata": {},
   "outputs": [],
   "source": []
  },
  {
   "cell_type": "code",
   "execution_count": null,
   "id": "d0adcddb",
   "metadata": {},
   "outputs": [],
   "source": [
    "if num>=0:\n",
    "    if (num==0):\n",
    "        print('zero')\n",
    "    if (num == 2):\n",
    "        print(2)\n",
    "    if (num == 5):\n",
    "        print(5)\n",
    "    elif num>5 and num<10:\n",
    "        print('its between 5 and 10')\n",
    "\n",
    "else:\n",
    "    print('negative number')\n",
    "        "
   ]
  },
  {
   "cell_type": "code",
   "execution_count": null,
   "id": "5e327a5b",
   "metadata": {},
   "outputs": [],
   "source": [
    "num = int(input())"
   ]
  },
  {
   "cell_type": "code",
   "execution_count": null,
   "id": "a0782bfa",
   "metadata": {},
   "outputs": [],
   "source": []
  },
  {
   "cell_type": "code",
   "execution_count": null,
   "id": "fc652db0",
   "metadata": {},
   "outputs": [],
   "source": []
  },
  {
   "cell_type": "code",
   "execution_count": null,
   "id": "58f4a549",
   "metadata": {},
   "outputs": [],
   "source": [
    "if num>=0:\n",
    "    if num>=15:\n",
    "        print(\"more than 15\")\n",
    "    else:\n",
    "        if (num==0):\n",
    "            print('zero')\n",
    "        if (num == 2):\n",
    "            print(2)\n",
    "        if (num == 5):\n",
    "            print(5)\n",
    "\n",
    "else:\n",
    "    print('negative number')"
   ]
  },
  {
   "cell_type": "code",
   "execution_count": null,
   "id": "42e72dfd",
   "metadata": {},
   "outputs": [],
   "source": []
  },
  {
   "cell_type": "code",
   "execution_count": null,
   "id": "3dc40dc1",
   "metadata": {},
   "outputs": [],
   "source": []
  },
  {
   "cell_type": "code",
   "execution_count": null,
   "id": "52eda970",
   "metadata": {},
   "outputs": [],
   "source": [
    "if num>=0:\n",
    "    if num>=15:\n",
    "        print(\"more than 15\")\n",
    "    else:\n",
    "        if (num==0):\n",
    "            print('zero')\n",
    "        if (num == 2):\n",
    "            print(2)\n",
    "        if (num == 5):\n",
    "            print(5)\n",
    "\n",
    "else:\n",
    "    print('negative number')"
   ]
  },
  {
   "cell_type": "code",
   "execution_count": null,
   "id": "cdcef1b7",
   "metadata": {},
   "outputs": [],
   "source": [
    "a = int(input())\n",
    "b = int(input())\n",
    "c = int(input())"
   ]
  },
  {
   "cell_type": "code",
   "execution_count": null,
   "id": "1a261912",
   "metadata": {},
   "outputs": [],
   "source": []
  },
  {
   "cell_type": "code",
   "execution_count": null,
   "id": "f0c3e314",
   "metadata": {},
   "outputs": [],
   "source": []
  }
 ],
 "metadata": {
  "kernelspec": {
   "display_name": "Python 3 (ipykernel)",
   "language": "python",
   "name": "python3"
  },
  "language_info": {
   "codemirror_mode": {
    "name": "ipython",
    "version": 3
   },
   "file_extension": ".py",
   "mimetype": "text/x-python",
   "name": "python",
   "nbconvert_exporter": "python",
   "pygments_lexer": "ipython3",
   "version": "3.11.5"
  }
 },
 "nbformat": 4,
 "nbformat_minor": 5
}
