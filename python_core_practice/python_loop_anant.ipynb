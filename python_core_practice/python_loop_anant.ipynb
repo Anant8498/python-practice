{
 "cells": [
  {
   "cell_type": "code",
   "execution_count": null,
   "id": "1da730c5",
   "metadata": {},
   "outputs": [],
   "source": [
    "# LOOPS ---> method 2(control flow)\n",
    "# WHILE loop\n",
    "# For Loop"
   ]
  },
  {
   "cell_type": "code",
   "execution_count": null,
   "id": "5746a043",
   "metadata": {},
   "outputs": [],
   "source": []
  },
  {
   "cell_type": "code",
   "execution_count": null,
   "id": "8af7d39d",
   "metadata": {},
   "outputs": [],
   "source": [
    "# process:\n",
    "# 1. intialization --> from where the loop starts \n",
    "# 2. stopping condition ->from what end the loop will end\n",
    "# 3. updation ---> what loop will do when loop pases again to that condition next by next\n"
   ]
  },
  {
   "cell_type": "code",
   "execution_count": null,
   "id": "34f63be9",
   "metadata": {},
   "outputs": [],
   "source": []
  },
  {
   "cell_type": "code",
   "execution_count": null,
   "id": "0b60e164",
   "metadata": {},
   "outputs": [],
   "source": [
    "# while loop"
   ]
  },
  {
   "cell_type": "code",
   "execution_count": null,
   "id": "e8f07b6b",
   "metadata": {},
   "outputs": [],
   "source": [
    "# start_variable\n",
    "\n",
    "# while (test expression):\n",
    "\n",
    "# logic\n",
    "# upadtion_to_start_variable"
   ]
  },
  {
   "cell_type": "code",
   "execution_count": null,
   "id": "37c86118",
   "metadata": {},
   "outputs": [],
   "source": []
  },
  {
   "cell_type": "code",
   "execution_count": null,
   "id": "f340940b",
   "metadata": {},
   "outputs": [],
   "source": [
    "i = 1\n",
    "\n",
    "while i<=21:\n",
    "    print(i)\n",
    "    i+=1"
   ]
  },
  {
   "cell_type": "code",
   "execution_count": null,
   "id": "68ae7f39",
   "metadata": {},
   "outputs": [],
   "source": [
    "i = 1\n",
    "\n",
    "while i<=21:\n",
    "    print(i)\n",
    "    # without updation\n",
    "    "
   ]
  },
  {
   "cell_type": "code",
   "execution_count": null,
   "id": "2098ed84",
   "metadata": {},
   "outputs": [],
   "source": []
  },
  {
   "cell_type": "code",
   "execution_count": null,
   "id": "3bccbf57",
   "metadata": {},
   "outputs": [],
   "source": [
    "i = 1\n",
    "while i<=21:\n",
    "    if i%2==0:\n",
    "        print(i)\n",
    "    i+=1"
   ]
  },
  {
   "cell_type": "code",
   "execution_count": null,
   "id": "832a2508",
   "metadata": {},
   "outputs": [],
   "source": []
  },
  {
   "cell_type": "code",
   "execution_count": null,
   "id": "ab993019",
   "metadata": {},
   "outputs": [],
   "source": [
    "i = 1\n",
    "while i<=21:\n",
    "    if i%2!=0:\n",
    "        print(i)\n",
    "    i+=1"
   ]
  },
  {
   "cell_type": "code",
   "execution_count": null,
   "id": "acfc58a6",
   "metadata": {},
   "outputs": [],
   "source": []
  },
  {
   "cell_type": "code",
   "execution_count": null,
   "id": "0a1f2333",
   "metadata": {},
   "outputs": [],
   "source": [
    "#Example 1: Countdown\n",
    "\n",
    "#Write a program that takes a positive integer as input and counts down from that number to 1.\n",
    "\n",
    "a = int(input())\n",
    "\n",
    "\n",
    "while a>=1:\n",
    "    print(a)\n",
    "    a-=1"
   ]
  },
  {
   "cell_type": "code",
   "execution_count": null,
   "id": "1304f707",
   "metadata": {},
   "outputs": [],
   "source": []
  },
  {
   "cell_type": "code",
   "execution_count": 1,
   "id": "65ab9de1",
   "metadata": {},
   "outputs": [
    {
     "name": "stdout",
     "output_type": "stream",
     "text": [
      "enter your number:70\n"
     ]
    }
   ],
   "source": [
    "# Example 2: Sum of Digits\n",
    "\n",
    "# Write a program that calculates and prints the sum of the digits of a given integer.\n",
    "\n",
    "number = int(input(\"enter your number:\"))\n",
    "\n",
    "sum_of_the_digits = 0\n",
    "\n",
    "while number!=0:\n",
    "    digits = number%10\n",
    "    sum_of_the_digits+=digits\n",
    "    number//=10"
   ]
  },
  {
   "cell_type": "code",
   "execution_count": 2,
   "id": "76076405",
   "metadata": {},
   "outputs": [
    {
     "data": {
      "text/plain": [
       "7"
      ]
     },
     "execution_count": 2,
     "metadata": {},
     "output_type": "execute_result"
    }
   ],
   "source": [
    "sum_of_the_digits"
   ]
  },
  {
   "cell_type": "code",
   "execution_count": null,
   "id": "6aaeb8a2",
   "metadata": {},
   "outputs": [],
   "source": []
  },
  {
   "cell_type": "code",
   "execution_count": null,
   "id": "0cc9932e",
   "metadata": {},
   "outputs": [],
   "source": [
    "#Example 3: Password Guessing Game\n",
    "\n",
    "#Create a simple password guessing game where the user needs to guess the correct password.\n",
    "\n",
    "\n",
    "correct_password  = \"secret\"\n",
    "guess= input('guess the password:')\n",
    "\n",
    "while guess!=correct_password:\n",
    "    guess = input(\"incorrect: try again\")\n",
    "    \n",
    "print(\"congratulation for guesed correct\")"
   ]
  },
  {
   "cell_type": "code",
   "execution_count": null,
   "id": "0fb6fe33",
   "metadata": {},
   "outputs": [],
   "source": []
  },
  {
   "cell_type": "code",
   "execution_count": null,
   "id": "278b109e",
   "metadata": {},
   "outputs": [],
   "source": [
    "#Example 4: Factorial Calculation\n",
    "\n",
    "#Write a program that calculates the factorial of a given non-negative integer.\n",
    "\n",
    "\n",
    "number = int(input(\"enter non-negative integer\"))\n",
    "fact = 1\n",
    "i = 1\n",
    "\n",
    "while i<=number:\n",
    "    fact*=i\n",
    "    \n",
    "    i+=1"
   ]
  },
  {
   "cell_type": "code",
   "execution_count": null,
   "id": "4a9fff4d",
   "metadata": {},
   "outputs": [],
   "source": [
    "number = int(input())"
   ]
  },
  {
   "cell_type": "code",
   "execution_count": null,
   "id": "1945dfc4",
   "metadata": {},
   "outputs": [],
   "source": []
  },
  {
   "cell_type": "code",
   "execution_count": null,
   "id": "5ddf267d",
   "metadata": {},
   "outputs": [],
   "source": [
    "factorial = 1\n",
    "a = 1\n",
    "while a<=number:\n",
    "    factorial*=a\n",
    "    \n",
    "    a+=1"
   ]
  },
  {
   "cell_type": "code",
   "execution_count": null,
   "id": "fa2aa4f7",
   "metadata": {},
   "outputs": [],
   "source": [
    "factorial"
   ]
  },
  {
   "cell_type": "code",
   "execution_count": null,
   "id": "0321124d",
   "metadata": {},
   "outputs": [],
   "source": []
  },
  {
   "cell_type": "code",
   "execution_count": null,
   "id": "7da8686e",
   "metadata": {},
   "outputs": [],
   "source": []
  },
  {
   "cell_type": "code",
   "execution_count": null,
   "id": "011d3632",
   "metadata": {},
   "outputs": [],
   "source": [
    "import random\n",
    "\n",
    "target_number = random.randint(1, 100)\n",
    "\n",
    "guess = 0\n",
    "attempts = 0\n",
    "\n",
    "while guess != target_number:\n",
    "    guess = int(input(\"Guess a number between 1 and 100: \"))\n",
    "    attempts += 1\n",
    "    \n",
    "    if guess < target_number:\n",
    "        print(\"Try higher!\")\n",
    "    elif guess > target_number:\n",
    "        print(\"Try lower!\")\n",
    "    else:\n",
    "        print(f\"Congratulations! You guessed the number {target_number} in {attempts} attempts.\")"
   ]
  },
  {
   "cell_type": "code",
   "execution_count": null,
   "id": "28759be0",
   "metadata": {},
   "outputs": [],
   "source": []
  },
  {
   "cell_type": "code",
   "execution_count": null,
   "id": "fa9ca183",
   "metadata": {},
   "outputs": [],
   "source": []
  },
  {
   "cell_type": "code",
   "execution_count": null,
   "id": "0db022b2",
   "metadata": {},
   "outputs": [],
   "source": [
    "#Example 5: Number Guessing Game\n",
    "\n",
    "#Create a number guessing game where the program generates a random number \n",
    "#between 1 and 100, and the user needs to guess it.\n",
    "\n",
    "import random\n",
    "\n",
    "target_number = random.randint(1, 100)\n",
    "\n",
    "guess = 0\n",
    "attempts = 0\n",
    "\n",
    "while guess != target_number:\n",
    "    guess = int(input(\"Guess a number between 1 and 100: \"))\n",
    "    attempts += 1\n",
    "    \n",
    "    if guess < target_number:\n",
    "        print(\"Try higher!\")\n",
    "    elif guess > target_number:\n",
    "        print(\"Try lower!\")\n",
    "    else:\n",
    "        print(f\"Congratulations! You guessed the number {target_number} in {attempts} attempts.\")"
   ]
  },
  {
   "cell_type": "code",
   "execution_count": null,
   "id": "c2389093",
   "metadata": {},
   "outputs": [],
   "source": []
  },
  {
   "cell_type": "code",
   "execution_count": null,
   "id": "0d2f1cb9",
   "metadata": {},
   "outputs": [],
   "source": []
  },
  {
   "cell_type": "code",
   "execution_count": null,
   "id": "458d7eef",
   "metadata": {},
   "outputs": [],
   "source": [
    "#while True  = infinite"
   ]
  },
  {
   "cell_type": "code",
   "execution_count": null,
   "id": "0b354d3f",
   "metadata": {},
   "outputs": [],
   "source": [
    "h = int(input())"
   ]
  },
  {
   "cell_type": "code",
   "execution_count": null,
   "id": "e16c633b",
   "metadata": {},
   "outputs": [],
   "source": [
    "h = int(input())\n",
    "sum_ = 0\n",
    "\n",
    "\n",
    "while True:\n",
    "    sum_+=h\n",
    "    h-=1\n",
    "    \n",
    "    if h==0:\n",
    "        break  "
   ]
  },
  {
   "cell_type": "code",
   "execution_count": null,
   "id": "25b45555",
   "metadata": {},
   "outputs": [],
   "source": [
    "sum_"
   ]
  },
  {
   "cell_type": "code",
   "execution_count": null,
   "id": "69294846",
   "metadata": {},
   "outputs": [],
   "source": []
  },
  {
   "cell_type": "code",
   "execution_count": null,
   "id": "831c5e5e",
   "metadata": {},
   "outputs": [],
   "source": [
    "s = 0\n",
    "\n",
    "while True:\n",
    "    s+=n\n",
    "    n-=1\n",
    "    \n",
    "    if n==0:\n",
    "        break"
   ]
  },
  {
   "cell_type": "code",
   "execution_count": null,
   "id": "ff80f8bf",
   "metadata": {},
   "outputs": [],
   "source": [
    "s"
   ]
  },
  {
   "cell_type": "code",
   "execution_count": null,
   "id": "8b566c00",
   "metadata": {},
   "outputs": [],
   "source": []
  },
  {
   "cell_type": "code",
   "execution_count": null,
   "id": "8ae9ec88",
   "metadata": {},
   "outputs": [],
   "source": [
    "#for loop"
   ]
  },
  {
   "cell_type": "code",
   "execution_count": null,
   "id": "1f9829b4",
   "metadata": {},
   "outputs": [],
   "source": []
  },
  {
   "cell_type": "code",
   "execution_count": null,
   "id": "23009519",
   "metadata": {},
   "outputs": [],
   "source": [
    "list(range(1,21))"
   ]
  },
  {
   "cell_type": "code",
   "execution_count": null,
   "id": "1ad3069b",
   "metadata": {},
   "outputs": [],
   "source": [
    "tuple(range(1,20,2))"
   ]
  },
  {
   "cell_type": "code",
   "execution_count": null,
   "id": "f88afe36",
   "metadata": {},
   "outputs": [],
   "source": [
    "set(range(5,50,5))"
   ]
  },
  {
   "cell_type": "code",
   "execution_count": null,
   "id": "3572748c",
   "metadata": {},
   "outputs": [],
   "source": [
    "list(range(-20,2))"
   ]
  },
  {
   "cell_type": "code",
   "execution_count": null,
   "id": "24a7f191",
   "metadata": {},
   "outputs": [],
   "source": [
    "list(range(-20,-2))"
   ]
  },
  {
   "cell_type": "code",
   "execution_count": null,
   "id": "28c5ac9f",
   "metadata": {},
   "outputs": [],
   "source": [
    "list(range(-2, -20, -2))"
   ]
  },
  {
   "cell_type": "code",
   "execution_count": null,
   "id": "e8d8950b",
   "metadata": {},
   "outputs": [],
   "source": []
  },
  {
   "cell_type": "code",
   "execution_count": null,
   "id": "014da945",
   "metadata": {},
   "outputs": [],
   "source": [
    "list(range(1,10))"
   ]
  },
  {
   "cell_type": "code",
   "execution_count": null,
   "id": "917f422a",
   "metadata": {},
   "outputs": [],
   "source": [
    "for i in range(1,10):\n",
    "    print(i,end=\" \" )\n",
    "else:\n",
    "    print()\n",
    "    print('no element left')"
   ]
  },
  {
   "cell_type": "code",
   "execution_count": null,
   "id": "af1e7f3d",
   "metadata": {},
   "outputs": [],
   "source": []
  },
  {
   "cell_type": "code",
   "execution_count": null,
   "id": "a2b0d261",
   "metadata": {},
   "outputs": [],
   "source": [
    "for i in range(1,21):\n",
    "    if i%2==0:\n",
    "        print(i)"
   ]
  },
  {
   "cell_type": "code",
   "execution_count": null,
   "id": "0c81d9e9",
   "metadata": {},
   "outputs": [],
   "source": []
  },
  {
   "cell_type": "code",
   "execution_count": null,
   "id": "9e81f37a",
   "metadata": {},
   "outputs": [],
   "source": [
    "for i in range(2,22,2):\n",
    "    print(i)"
   ]
  },
  {
   "cell_type": "code",
   "execution_count": null,
   "id": "30eed98a",
   "metadata": {},
   "outputs": [],
   "source": []
  },
  {
   "cell_type": "code",
   "execution_count": null,
   "id": "49936636",
   "metadata": {},
   "outputs": [],
   "source": [
    "for i in [1, 2, 3, 4, 5, 6, 7, 8, 9, 10, 11, 12, 13, 14, 15, 16, 17, 18, 19, 20]:\n",
    "    if i%2==0:\n",
    "        print(i)"
   ]
  },
  {
   "cell_type": "code",
   "execution_count": null,
   "id": "b8699007",
   "metadata": {},
   "outputs": [],
   "source": []
  },
  {
   "cell_type": "code",
   "execution_count": null,
   "id": "fabe3860",
   "metadata": {},
   "outputs": [],
   "source": [
    "n = int(input())"
   ]
  },
  {
   "cell_type": "code",
   "execution_count": null,
   "id": "ec6e45bf",
   "metadata": {},
   "outputs": [],
   "source": [
    "\n",
    "for i in range(1,11):\n",
    "    print(\"{}x{}={}\".format(n, i, n*i))\n",
    "else:\n",
    "    print(\"All done\")"
   ]
  },
  {
   "cell_type": "code",
   "execution_count": null,
   "id": "c3c1a756",
   "metadata": {},
   "outputs": [],
   "source": []
  },
  {
   "cell_type": "code",
   "execution_count": null,
   "id": "a92308a6",
   "metadata": {},
   "outputs": [],
   "source": [
    "#Pattern printing questions"
   ]
  },
  {
   "cell_type": "code",
   "execution_count": null,
   "id": "1c08c9eb",
   "metadata": {},
   "outputs": [],
   "source": [
    "n = 5"
   ]
  },
  {
   "cell_type": "code",
   "execution_count": null,
   "id": "ed4eb91a",
   "metadata": {},
   "outputs": [],
   "source": [
    "# Observations:\n",
    "    1. n = rows\n",
    "    2. no. of rows = no. of stars\n",
    "\n",
    "*\n",
    "**\n",
    "***\n",
    "****\n",
    "*****"
   ]
  },
  {
   "cell_type": "code",
   "execution_count": null,
   "id": "f015a497",
   "metadata": {},
   "outputs": [],
   "source": [
    "'*'*20"
   ]
  },
  {
   "cell_type": "code",
   "execution_count": null,
   "id": "8ae62721",
   "metadata": {},
   "outputs": [],
   "source": [
    "n  = int(input())"
   ]
  },
  {
   "cell_type": "code",
   "execution_count": null,
   "id": "96b129b6",
   "metadata": {},
   "outputs": [],
   "source": [
    "list(range(1, 6))"
   ]
  },
  {
   "cell_type": "code",
   "execution_count": null,
   "id": "36dc31ed",
   "metadata": {},
   "outputs": [],
   "source": [
    "for i in range(1, n+1):\n",
    "    print(\"*\"*i)"
   ]
  },
  {
   "cell_type": "code",
   "execution_count": null,
   "id": "734418fb",
   "metadata": {},
   "outputs": [],
   "source": []
  },
  {
   "cell_type": "code",
   "execution_count": null,
   "id": "61e7a6ed",
   "metadata": {},
   "outputs": [],
   "source": [
    "for i in [1, 2, 3, 4, 5]:\n",
    "    print(\"*\"*i)"
   ]
  },
  {
   "cell_type": "code",
   "execution_count": null,
   "id": "5aedbfc8",
   "metadata": {},
   "outputs": [],
   "source": []
  },
  {
   "cell_type": "code",
   "execution_count": null,
   "id": "58d26f9a",
   "metadata": {},
   "outputs": [],
   "source": [
    "#nested for Loops"
   ]
  },
  {
   "cell_type": "code",
   "execution_count": null,
   "id": "3e48ffb7",
   "metadata": {},
   "outputs": [],
   "source": [
    "# responsible for rows \n",
    "for i in range(1,n+1):\n",
    "    # resposible for stars\n",
    "    for j in range(1, i+1):\n",
    "        print('*', end=\"\")\n",
    "    print()"
   ]
  },
  {
   "cell_type": "code",
   "execution_count": null,
   "id": "4f814c15",
   "metadata": {},
   "outputs": [],
   "source": []
  },
  {
   "cell_type": "code",
   "execution_count": null,
   "id": "614f345b",
   "metadata": {},
   "outputs": [],
   "source": [
    "n = int(input())"
   ]
  },
  {
   "cell_type": "code",
   "execution_count": null,
   "id": "ee1bf422",
   "metadata": {},
   "outputs": [],
   "source": [
    "for i in range(n, 0, -1):\n",
    "    print(\"*\"*i)"
   ]
  },
  {
   "cell_type": "code",
   "execution_count": null,
   "id": "c3e01d9b",
   "metadata": {},
   "outputs": [],
   "source": []
  },
  {
   "cell_type": "code",
   "execution_count": null,
   "id": "29d31192",
   "metadata": {},
   "outputs": [],
   "source": [
    "n = int(input())"
   ]
  },
  {
   "cell_type": "code",
   "execution_count": null,
   "id": "f8ba731f",
   "metadata": {},
   "outputs": [],
   "source": [
    "num = 6\n",
    "\n",
    "for i in range(1,n+1):\n",
    "    for j in range(i):\n",
    "        print(num, end=\"\")\n",
    "        num+=1\n",
    "    print()"
   ]
  },
  {
   "cell_type": "code",
   "execution_count": null,
   "id": "ea70774c",
   "metadata": {},
   "outputs": [],
   "source": []
  },
  {
   "cell_type": "code",
   "execution_count": null,
   "id": "0371b1ce",
   "metadata": {},
   "outputs": [],
   "source": [
    "*****\n",
    "*   *\n",
    "*   *\n",
    "*   *\n",
    "*****"
   ]
  },
  {
   "cell_type": "code",
   "execution_count": null,
   "id": "46ebe13e",
   "metadata": {},
   "outputs": [],
   "source": [
    "side_length = 5\n",
    "\n",
    "for i in range(side_length):\n",
    "    for j in range(side_length):\n",
    "        if i == 0 or i == side_length - 1 or j == 0 or j == side_length - 1:\n",
    "            print(\"*\", end=\" \")\n",
    "        else:\n",
    "            print(\" \", end=\" \")\n",
    "    print()"
   ]
  },
  {
   "cell_type": "code",
   "execution_count": null,
   "id": "74c2e6ec",
   "metadata": {},
   "outputs": [],
   "source": []
  },
  {
   "cell_type": "code",
   "execution_count": null,
   "id": "c250b752",
   "metadata": {},
   "outputs": [],
   "source": [
    "list(range(side_length))"
   ]
  },
  {
   "cell_type": "code",
   "execution_count": null,
   "id": "c63dc4ce",
   "metadata": {},
   "outputs": [],
   "source": [
    "for i in range(side_length):\n",
    "    if i==0 or i==side_length-1:\n",
    "        print(\"*\"*side_length)\n",
    "    else:\n",
    "        print(\"*\" + \" \"*(side_length-2)+\"*\")"
   ]
  },
  {
   "cell_type": "code",
   "execution_count": null,
   "id": "9f2a76d2",
   "metadata": {},
   "outputs": [],
   "source": []
  },
  {
   "cell_type": "code",
   "execution_count": null,
   "id": "9737eee6",
   "metadata": {},
   "outputs": [],
   "source": [
    "#*****\n",
    "#****\n",
    "#***\n",
    "#**\n",
    "#*"
   ]
  },
  {
   "cell_type": "code",
   "execution_count": null,
   "id": "77a85cb5",
   "metadata": {},
   "outputs": [],
   "source": [
    "n = int(input())"
   ]
  },
  {
   "cell_type": "code",
   "execution_count": null,
   "id": "d6db7a67",
   "metadata": {},
   "outputs": [],
   "source": [
    "for i in range(n,0,-1):\n",
    "    print(\"*\"*i)"
   ]
  },
  {
   "cell_type": "code",
   "execution_count": null,
   "id": "47ca8c55",
   "metadata": {},
   "outputs": [],
   "source": []
  },
  {
   "cell_type": "code",
   "execution_count": null,
   "id": "8be5fd0e",
   "metadata": {},
   "outputs": [],
   "source": [
    "*\n",
    "**\n",
    "***\n",
    "****\n",
    "*****\n",
    "*****\n",
    "****\n",
    "***\n",
    "**\n",
    "*"
   ]
  },
  {
   "cell_type": "code",
   "execution_count": null,
   "id": "8bcea44f",
   "metadata": {},
   "outputs": [],
   "source": [
    "n = int(input())"
   ]
  },
  {
   "cell_type": "code",
   "execution_count": null,
   "id": "17b0a15f",
   "metadata": {},
   "outputs": [],
   "source": [
    "for i in range(1, n+1):\n",
    "    for j in range(1, i+1):\n",
    "        print(\"*\", end='')\n",
    "    print()\n",
    "    \n",
    "for i in range(n,0,-1):\n",
    "    print(\"*\"*i)"
   ]
  },
  {
   "cell_type": "code",
   "execution_count": null,
   "id": "8df50642",
   "metadata": {},
   "outputs": [],
   "source": []
  },
  {
   "cell_type": "code",
   "execution_count": null,
   "id": "609e5f16",
   "metadata": {},
   "outputs": [],
   "source": []
  },
  {
   "cell_type": "code",
   "execution_count": null,
   "id": "d26c01c6",
   "metadata": {},
   "outputs": [],
   "source": [
    "#write a programme to calculate sum of first n natural numbers"
   ]
  },
  {
   "cell_type": "code",
   "execution_count": null,
   "id": "b0289cbc",
   "metadata": {},
   "outputs": [],
   "source": [
    "n = int(input())"
   ]
  },
  {
   "cell_type": "code",
   "execution_count": null,
   "id": "514a5091",
   "metadata": {},
   "outputs": [],
   "source": [
    "s_um = 0 \n",
    "for i in range(1, n+1):\n",
    "    s_um+=i"
   ]
  },
  {
   "cell_type": "code",
   "execution_count": null,
   "id": "799bd0ce",
   "metadata": {},
   "outputs": [],
   "source": [
    "print(\"the sum of first n natural numbers are {}\".format(s_um))"
   ]
  },
  {
   "cell_type": "code",
   "execution_count": null,
   "id": "b25160ea",
   "metadata": {},
   "outputs": [],
   "source": []
  },
  {
   "cell_type": "code",
   "execution_count": null,
   "id": "a373cb8c",
   "metadata": {},
   "outputs": [],
   "source": [
    "n = int(input())"
   ]
  },
  {
   "cell_type": "code",
   "execution_count": null,
   "id": "ac816979",
   "metadata": {},
   "outputs": [],
   "source": [
    "su_m = 0\n",
    "\n",
    "while True:\n",
    "    su_m+=n\n",
    "    n-=1\n",
    "    \n",
    "    if n==0:\n",
    "        break"
   ]
  },
  {
   "cell_type": "code",
   "execution_count": null,
   "id": "9b73f57d",
   "metadata": {},
   "outputs": [],
   "source": [
    "su_m"
   ]
  },
  {
   "cell_type": "code",
   "execution_count": null,
   "id": "c51cbbd2",
   "metadata": {},
   "outputs": [],
   "source": []
  },
  {
   "cell_type": "code",
   "execution_count": null,
   "id": "77c2241a",
   "metadata": {},
   "outputs": [],
   "source": [
    "for i in \"data science\":\n",
    "    print(i)"
   ]
  },
  {
   "cell_type": "code",
   "execution_count": null,
   "id": "cd13d24b",
   "metadata": {},
   "outputs": [],
   "source": []
  },
  {
   "cell_type": "code",
   "execution_count": null,
   "id": "d117bce6",
   "metadata": {},
   "outputs": [],
   "source": [
    "for i in \"data science\":\n",
    "    print(i)"
   ]
  },
  {
   "cell_type": "code",
   "execution_count": null,
   "id": "5b7e4bd3",
   "metadata": {},
   "outputs": [],
   "source": []
  },
  {
   "cell_type": "code",
   "execution_count": null,
   "id": "09ac1512",
   "metadata": {},
   "outputs": [],
   "source": [
    "# Break, Continure and pass"
   ]
  },
  {
   "cell_type": "code",
   "execution_count": null,
   "id": "4738b273",
   "metadata": {},
   "outputs": [],
   "source": [
    "for i in range(1,20):\n",
    "    if i==5:\n",
    "        break\n",
    "    print(i)\n",
    "else:\n",
    "    print(\"all done\")"
   ]
  },
  {
   "cell_type": "code",
   "execution_count": null,
   "id": "7514b321",
   "metadata": {},
   "outputs": [],
   "source": []
  },
  {
   "cell_type": "code",
   "execution_count": null,
   "id": "16a0e747",
   "metadata": {},
   "outputs": [],
   "source": [
    "for i in range(1,20):\n",
    "    if i==5:\n",
    "        continue\n",
    "    print(i)\n",
    "else:\n",
    "    print(\"all done\")"
   ]
  },
  {
   "cell_type": "code",
   "execution_count": null,
   "id": "bc2101a5",
   "metadata": {},
   "outputs": [],
   "source": []
  },
  {
   "cell_type": "code",
   "execution_count": null,
   "id": "0507f899",
   "metadata": {},
   "outputs": [],
   "source": [
    "for i in range(1,21):\n",
    "    pass"
   ]
  },
  {
   "cell_type": "code",
   "execution_count": null,
   "id": "636f1ca1",
   "metadata": {},
   "outputs": [],
   "source": [
    "if 4>5:\n",
    "    pass"
   ]
  }
 ],
 "metadata": {
  "kernelspec": {
   "display_name": "Python 3 (ipykernel)",
   "language": "python",
   "name": "python3"
  },
  "language_info": {
   "codemirror_mode": {
    "name": "ipython",
    "version": 3
   },
   "file_extension": ".py",
   "mimetype": "text/x-python",
   "name": "python",
   "nbconvert_exporter": "python",
   "pygments_lexer": "ipython3",
   "version": "3.11.5"
  }
 },
 "nbformat": 4,
 "nbformat_minor": 5
}
