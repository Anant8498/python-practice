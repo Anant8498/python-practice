{
 "cells": [
  {
   "cell_type": "code",
   "execution_count": null,
   "id": "c65d01ce",
   "metadata": {},
   "outputs": [],
   "source": [
    "# functions  (block of code)"
   ]
  },
  {
   "cell_type": "code",
   "execution_count": null,
   "id": "4fc4c594",
   "metadata": {},
   "outputs": [],
   "source": [
    "#Functions - are the reuseable pieces of programmes\n",
    "          ## advantages: \n",
    "                 #   1. with the help of functions we can avoid the repetation of code\n",
    "                 #   2. With the help of function we can write the modular code"
   ]
  },
  {
   "cell_type": "code",
   "execution_count": null,
   "id": "970a171e",
   "metadata": {},
   "outputs": [],
   "source": [
    "# types of functions\n",
    "# 1 user defined function  (udf's)\n",
    "# 2 built in function "
   ]
  },
  {
   "cell_type": "code",
   "execution_count": null,
   "id": "74ee745c",
   "metadata": {},
   "outputs": [],
   "source": []
  },
  {
   "cell_type": "code",
   "execution_count": null,
   "id": "2262db3f",
   "metadata": {},
   "outputs": [],
   "source": [
    " print(45)  # here print is also a function whose function is to print the values "
   ]
  },
  {
   "cell_type": "code",
   "execution_count": null,
   "id": "208c57b4",
   "metadata": {},
   "outputs": [],
   "source": [
    "# 1 user defined function  (udf's)"
   ]
  },
  {
   "cell_type": "code",
   "execution_count": null,
   "id": "987a1a2f",
   "metadata": {},
   "outputs": [],
   "source": [
    "# syntax of udf "
   ]
  },
  {
   "cell_type": "code",
   "execution_count": null,
   "id": "996ed214",
   "metadata": {},
   "outputs": [],
   "source": [
    "def function_name(parameter):\n",
    "    \n",
    "    \"\"\"this is the docstring which comes inside the triple quote and helpful for information of function \"\"\"\n",
    "    logic \n",
    "    logic\n",
    "    logic\n",
    "     \n",
    "    print/return     "
   ]
  },
  {
   "cell_type": "code",
   "execution_count": null,
   "id": "a10245ce",
   "metadata": {},
   "outputs": [],
   "source": []
  },
  {
   "cell_type": "code",
   "execution_count": null,
   "id": "0c49bcf5",
   "metadata": {},
   "outputs": [],
   "source": [
    "#ex1"
   ]
  },
  {
   "cell_type": "code",
   "execution_count": null,
   "id": "784894a1",
   "metadata": {},
   "outputs": [],
   "source": [
    "def greet(name):\n",
    "    \"\"\"this function will greet you good morning\"\"\"\n",
    "    print(f'hello,good morning {name}')\n",
    "     "
   ]
  },
  {
   "cell_type": "code",
   "execution_count": null,
   "id": "d37f1523",
   "metadata": {},
   "outputs": [],
   "source": [
    "greet(\"anant\")  # function calling or revoking"
   ]
  },
  {
   "cell_type": "code",
   "execution_count": null,
   "id": "5a80e74a",
   "metadata": {},
   "outputs": [],
   "source": []
  },
  {
   "cell_type": "code",
   "execution_count": null,
   "id": "13a5a454",
   "metadata": {},
   "outputs": [],
   "source": [
    "# print vs return"
   ]
  },
  {
   "cell_type": "code",
   "execution_count": null,
   "id": "3f94e61e",
   "metadata": {},
   "outputs": [],
   "source": [
    "d=greet(\"anant\") "
   ]
  },
  {
   "cell_type": "code",
   "execution_count": null,
   "id": "18a4251b",
   "metadata": {},
   "outputs": [],
   "source": [
    "d  # not saved in print format # try always use return statement "
   ]
  },
  {
   "cell_type": "code",
   "execution_count": null,
   "id": "82399fc2",
   "metadata": {},
   "outputs": [],
   "source": [
    "\n",
    "    def greets(name):\n",
    "        \"\"\"this function will greet you good morning\"\"\"\n",
    "        return(f'hello,good morning {name}')\n",
    "     "
   ]
  },
  {
   "cell_type": "code",
   "execution_count": null,
   "id": "740c00d4",
   "metadata": {},
   "outputs": [],
   "source": [
    "greets(\"anant\")"
   ]
  },
  {
   "cell_type": "code",
   "execution_count": null,
   "id": "052b07de",
   "metadata": {},
   "outputs": [],
   "source": [
    "d=greets(\"anant\")"
   ]
  },
  {
   "cell_type": "code",
   "execution_count": null,
   "id": "7d704ec6",
   "metadata": {},
   "outputs": [],
   "source": [
    "d      # saved when we uses the return statement instead of print"
   ]
  },
  {
   "cell_type": "code",
   "execution_count": null,
   "id": "ef6f8a95",
   "metadata": {},
   "outputs": [],
   "source": []
  },
  {
   "cell_type": "code",
   "execution_count": null,
   "id": "94649963",
   "metadata": {},
   "outputs": [],
   "source": [
    "#ex 2\n",
    "\n",
    "def add(x,y):\n",
    "    \"\"\"this will add the two value\"\"\"\n",
    "    z=x+y\n",
    "    return(f\"the sum of {x} and {y} are {z}\" )"
   ]
  },
  {
   "cell_type": "code",
   "execution_count": null,
   "id": "547a40d6",
   "metadata": {},
   "outputs": [],
   "source": [
    "add(1,2)\n"
   ]
  },
  {
   "cell_type": "code",
   "execution_count": null,
   "id": "5cc7fedc",
   "metadata": {},
   "outputs": [],
   "source": [
    "add(0,3)"
   ]
  },
  {
   "cell_type": "code",
   "execution_count": null,
   "id": "34213f76",
   "metadata": {},
   "outputs": [],
   "source": []
  },
  {
   "cell_type": "code",
   "execution_count": null,
   "id": "62807ccb",
   "metadata": {},
   "outputs": [],
   "source": [
    "#ex 3\n",
    "def area_c(r):\n",
    "    \"\"\"this function will calculate the area of circle\"\"\"\n",
    "    area=3.14*r*r\n",
    "    return(f\"the area of circle is {area}\")"
   ]
  },
  {
   "cell_type": "code",
   "execution_count": null,
   "id": "22342889",
   "metadata": {},
   "outputs": [],
   "source": [
    "area_c(2)"
   ]
  },
  {
   "cell_type": "code",
   "execution_count": null,
   "id": "40caba5d",
   "metadata": {},
   "outputs": [],
   "source": [
    "area_c(5)"
   ]
  },
  {
   "cell_type": "code",
   "execution_count": null,
   "id": "ddfcf87a",
   "metadata": {},
   "outputs": [],
   "source": []
  },
  {
   "cell_type": "code",
   "execution_count": null,
   "id": "17823bbf",
   "metadata": {},
   "outputs": [],
   "source": [
    "#ex4 \n",
    "def perimeter(r):\n",
    "    \"\"\"this function will calculate the parameter \"\"\"\n",
    "    perimeter=round(2*3.14*r,3) # 3 is used that we want value till three digit\n",
    "    return(f\"perimeter of this circle is {perimeter}\")"
   ]
  },
  {
   "cell_type": "code",
   "execution_count": null,
   "id": "2b73ad3f",
   "metadata": {},
   "outputs": [],
   "source": [
    "perimeter(2)\n"
   ]
  },
  {
   "cell_type": "code",
   "execution_count": null,
   "id": "b4c49ea8",
   "metadata": {},
   "outputs": [],
   "source": [
    "perimeter(5)   # for taking this value as roundoff value # take round function "
   ]
  },
  {
   "cell_type": "code",
   "execution_count": null,
   "id": "933c8c85",
   "metadata": {},
   "outputs": [],
   "source": []
  },
  {
   "cell_type": "code",
   "execution_count": null,
   "id": "1d06b6dd",
   "metadata": {},
   "outputs": [],
   "source": [
    "#ex5 \n",
    "def calculate(x,y):\n",
    "    \"\"\"this will perform basic arithematic function\"\"\"\n",
    "    a=x+y\n",
    "    b=x-y\n",
    "    c=x*y\n",
    "    d=round(x/y,3)\n",
    "    return(a,b,c,d)"
   ]
  },
  {
   "cell_type": "code",
   "execution_count": null,
   "id": "83d4c027",
   "metadata": {},
   "outputs": [],
   "source": [
    "calculate(2,3)"
   ]
  },
  {
   "cell_type": "code",
   "execution_count": null,
   "id": "41872b08",
   "metadata": {},
   "outputs": [],
   "source": []
  },
  {
   "cell_type": "code",
   "execution_count": null,
   "id": "55cf19c7",
   "metadata": {},
   "outputs": [],
   "source": []
  },
  {
   "cell_type": "code",
   "execution_count": 3,
   "id": "2bd9219c",
   "metadata": {},
   "outputs": [],
   "source": [
    "  t = [7,8,9,12,13]"
   ]
  },
  {
   "cell_type": "code",
   "execution_count": 7,
   "id": "90d48b55",
   "metadata": {},
   "outputs": [],
   "source": [
    "#ex 6\n",
    "# multiply all number in list \n",
    "\n",
    "def multiplication(p):\n",
    "    \"\"\"this will take p as list input\"\"\"\n",
    "    \"\"\"this will multiply all element in list \"\"\"\n",
    "    result=1\n",
    "    for i in p:\n",
    "        result*=i\n",
    "        \n",
    "    return result"
   ]
  },
  {
   "cell_type": "code",
   "execution_count": 9,
   "id": "3b03c994",
   "metadata": {},
   "outputs": [
    {
     "data": {
      "text/plain": [
       "6"
      ]
     },
     "execution_count": 9,
     "metadata": {},
     "output_type": "execute_result"
    }
   ],
   "source": [
    "multiplication([1,2,3])"
   ]
  },
  {
   "cell_type": "code",
   "execution_count": null,
   "id": "a7ca2145",
   "metadata": {},
   "outputs": [],
   "source": []
  },
  {
   "cell_type": "code",
   "execution_count": null,
   "id": "d9373484",
   "metadata": {},
   "outputs": [],
   "source": []
  },
  {
   "cell_type": "code",
   "execution_count": null,
   "id": "ec692b08",
   "metadata": {},
   "outputs": [],
   "source": []
  },
  {
   "cell_type": "code",
   "execution_count": null,
   "id": "46b0fc8b",
   "metadata": {},
   "outputs": [],
   "source": []
  },
  {
   "cell_type": "code",
   "execution_count": null,
   "id": "6f266167",
   "metadata": {},
   "outputs": [],
   "source": []
  },
  {
   "cell_type": "code",
   "execution_count": null,
   "id": "19d662f9",
   "metadata": {},
   "outputs": [],
   "source": []
  },
  {
   "cell_type": "code",
   "execution_count": null,
   "id": "1d1d968b",
   "metadata": {},
   "outputs": [],
   "source": []
  },
  {
   "cell_type": "code",
   "execution_count": null,
   "id": "7d845646",
   "metadata": {},
   "outputs": [],
   "source": []
  },
  {
   "cell_type": "code",
   "execution_count": null,
   "id": "ced3099c",
   "metadata": {},
   "outputs": [],
   "source": []
  },
  {
   "cell_type": "code",
   "execution_count": null,
   "id": "2a6641f0",
   "metadata": {},
   "outputs": [],
   "source": []
  }
 ],
 "metadata": {
  "kernelspec": {
   "display_name": "Python 3 (ipykernel)",
   "language": "python",
   "name": "python3"
  },
  "language_info": {
   "codemirror_mode": {
    "name": "ipython",
    "version": 3
   },
   "file_extension": ".py",
   "mimetype": "text/x-python",
   "name": "python",
   "nbconvert_exporter": "python",
   "pygments_lexer": "ipython3",
   "version": "3.11.5"
  }
 },
 "nbformat": 4,
 "nbformat_minor": 5
}
